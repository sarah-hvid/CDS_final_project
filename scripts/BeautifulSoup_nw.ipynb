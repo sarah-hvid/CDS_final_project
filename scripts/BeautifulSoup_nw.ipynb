{
 "cells": [
  {
   "cell_type": "markdown",
   "metadata": {},
   "source": [
    "## 1. script\n",
    "### This script parses the XML files into TXT files\n",
    "#### Loading packages"
   ]
  },
  {
   "cell_type": "code",
   "execution_count": 7,
   "metadata": {},
   "outputs": [],
   "source": [
    "from bs4 import BeautifulSoup\n",
    "import pandas as pd\n",
    "import re\n",
    "import os\n",
    "import glob"
   ]
  },
  {
   "cell_type": "markdown",
   "metadata": {},
   "source": [
    "#### First, we are testing the functions on a single file"
   ]
  },
  {
   "cell_type": "code",
   "execution_count": 1,
   "metadata": {},
   "outputs": [],
   "source": [
    "xml_doc = \"\"\"<?xml version=\"1.0\" encoding=\"UTF-8\"?><text xmlns=\"http://www.tei-c.org/ns/1.0\" xmlns:HIS=\"http://www.example.org/ns/HIS\" rend=\"letter\" corresp=\"B18820102FH\" xml:lang=\"da-no\">\n",
    "<body>\n",
    "<div type=\"letter\">\n",
    "<dateline>\n",
    "                            <pb n=\"[1]\"/>Rom, den <date>2. Januar 1882</date>.</dateline>\n",
    "<salute>Kære herr justitsråd Hegel!</salute>\n",
    "<p>Tillad mig forbindtligst at takke for <anchor type=\"lemma\" xml:id=\"koB14_699\"/>Deres venlige brev, som jeg modtog igår. Jeg havde ikke troet at <anchor type=\"lemma\" xml:id=\"koB14_700\"/>købet af obligationerne allerede vilde blive besørget i den travle juleuge; thi i så fald vilde jeg allerede for et par dage siden have tilskrevet Dem og bedet Dem om kun at købe for 5000 kroner. Sagen er nemlig at jeg hernede kommer til at behøve penge tidligere end beregnet og fra <HIS:hisRef type=\"place\" target=\"Navneregister_HISe.xml#plN\">Norge</HIS:hisRef> kan jeg først vente remisse længere hen i måneden. Jeg nødes derfor til at bede Dem om at <HIS:hisRef type=\"tcNote\" xml:id=\"noteT14_129\" target=\"B1880-1889ht_noter.xml\" corresp=\"noteT14_129\">De</HIS:hisRef> med sædvanlig beredvillighed vil vise mig den store tjeneste at forstrække mig med en veksel på 1000 kroner. Tag mig ikke <pb n=\"[2]\"/>anmodningen og ulejligheden altfor ilde op!</p>\n",
    "<p>\n",
    "                            <anchor type=\"lemma\" xml:id=\"koB14_701\"/>De kritiske voldsomheder og alt det vanvid, som skrives imod <HIS:hisRef type=\"work\" target=\"Navneregister_HISe.xml#woGe\">«Gengangere»</HIS:hisRef> tager jeg med fuldkommen sindsro. Jeg var forberedt på sligt. <anchor type=\"lemma\" xml:id=\"koB14_702\"/>Da <HIS:hisRef type=\"work\" target=\"Navneregister_HISe.xml#woKK\">«Kærlighedens komedie»</HIS:hisRef> udkom, blev der i Norge skreget ligeså vildt som nu. <anchor type=\"lemma\" xml:id=\"koB14_703\"/>Mod <HIS:hisRef type=\"work\" target=\"Navneregister_HISe.xml#woPG\">«Peer Gynt»</HIS:hisRef> blev der også skreget og <anchor type=\"lemma\" xml:id=\"koB14_704\"/>ikke mindre imod <HIS:hisRef type=\"work\" target=\"Navneregister_HISe.xml#woSS\">«Samfundets støtter»</HIS:hisRef> og <HIS:hisRef type=\"tcNote\" xml:id=\"noteT14_130\" target=\"B1880-1889ht_noter.xml\" corresp=\"noteT14_130\">\n",
    "                                <anchor type=\"lemma\" xml:id=\"koB14_705\"/>imod</HIS:hisRef> <HIS:hisRef type=\"work\" target=\"Navneregister_HISe.xml#woDu\">«Et dukkehjem»</HIS:hisRef>. Skriget vil også dennegang dø hen ligesom tidligere.</p>\n",
    "<p>Men kan det virkelig være muligt <anchor type=\"lemma\" xml:id=\"koB14_706\"/>at det er <HIS:hisRef type=\"person\" target=\"Navneregister_HISe.xml#peCKFM\">Molbech</HIS:hisRef>, som er <anchor type=\"lemma\" xml:id=\"koB14_707\"/>formummet ude i <HIS:hisRef type=\"org\" target=\"Navneregister_HISe.xml#orgDagbl\">«Dagbladet»</HIS:hisRef> og gør reklame for sit «Opad»?</p>\n",
    "<p>Et foruroliger mig når jeg tænker på det store oplag. <anchor type=\"lemma\" xml:id=\"koB14_708\"/>Har al denne allarm skadet bogens afsætning? – –</p>\n",
    "<p>Netop i dette øjeblik modtog jeg <anchor type=\"lemma\" xml:id=\"koB14_709\"/>Deres andet brev samt <HIS:hisRef type=\"tcNote\" xml:id=\"noteT14_131\" target=\"B1880-1889ht_noter.xml\" corresp=\"noteT14_131\">\n",
    "                                <anchor type=\"lemma\" xml:id=\"koB14_710\"/>aviserne.</HIS:hisRef> Til <HIS:hisRef type=\"person\" target=\"Navneregister_HISe.xml#peGB\">G. Brandes</HIS:hisRef> skriver jeg imorgen og takker <HIS:hisRef type=\"tcNote\" xml:id=\"noteT14_132\" target=\"B1880-1889ht_noter.xml\" corresp=\"noteT14_132\">ham</HIS:hisRef> for <anchor type=\"lemma\" xml:id=\"koB14_711\"/>hans <HIS:hisRef type=\"tcNote\" xml:id=\"noteT14_133\" target=\"B1880-1889ht_noter.xml\" corresp=\"noteT14_133\">artikel,</HIS:hisRef> <pb n=\"[3]\"/>som så højlig har glædet mig.</p>\n",
    "<p>Med forbindtligst tak for at De tænkte på mig med <anchor type=\"lemma\" xml:id=\"koB14_712\"/>bøger til jul, med tak for alt godt i det forløbne år og med vore bedste ønsker om et glædeligt og godt nyt år tegner jeg mig</p>\n",
    "<salute>Deres hjertelig hengivne og forbundne</salute>\n",
    "<signed>Henrik Ibsen.</signed>\n",
    "</div>\n",
    "</body>\n",
    "</text>\"\"\""
   ]
  },
  {
   "cell_type": "code",
   "execution_count": 16,
   "metadata": {},
   "outputs": [],
   "source": [
    "soup = BeautifulSoup(xml_doc, 'xml')"
   ]
  },
  {
   "cell_type": "code",
   "execution_count": 18,
   "metadata": {},
   "outputs": [
    {
     "data": {
      "text/plain": [
       "[<p>Jeg kan aldrig <anchor type=\"lemma\" xml:id=\"koB12_797\"/>komme af med Brevskrivning, navnlig fordi jeg har en Mistanke om at man paa mit Forfatterskab i denne Retning med adskillig Grund kan anvende <anchor type=\"lemma\" xml:id=\"koB12_798\"/>den Charakteristik, hvormed De, som det forekommer mig temmelig haardt, betegner min Prosa ialmindelighed; <HIS:hisRef corresp=\"noteT12_196\" target=\"B1844-1871ht_noter.xml\" type=\"tcNote\" xml:id=\"noteT12_196\">alligevel</HIS:hisRef> maa jeg dog tilskrive Dem etpar Linjer for oprigtigt og hjerteligt at takke for <anchor type=\"lemma\" xml:id=\"koB12_799\"/>Deres Anmeldelse af min Bog. Jeg takker Dem baade for hvad jeg kan være enig med Dem i (hvilket ikke blot og bart er de for mig smigrende Partier af Kritiken) og for hvad jeg, naar jeg engang bliver saa heldig personlig at træffe Dem, ialfald vil <emph>forsøge</emph> at disputere om. Navnlig takker jeg Dem fordi jeg seer at De dog igrunden ikke har saameget imod mig, som jeg hidindtil instinktmæssig har indbildt mig; dette har for mig en Vægt, som maaske ikke vil være let at gjøre Dem indlysende, der ikke kjender til i hvilken forfærdelig Grad jeg gaar sjæleligt allene heroppe. Mine «Venners» <pb n=\"[2]\"/>Opfatning af mig gjør mig forresten ingen Skade; jeg seer, angaaende mig selv, i ethvert Punkt klarere end alle mine Venner – og dette sandelig ikke til min Fordel. – <anchor type=\"lemma\" xml:id=\"koB12_800\"/>Jeg skriver nu paa <HIS:hisRef target=\"Navneregister_HISe.xml#woKE\" type=\"work\">et historisk Skuespil i 5 Akter</HIS:hisRef>, – men i Prosa, jeg <emph>kan</emph> ikke skrive det i Vers. – De gjør mig lidt Uret naar De antyder at jeg har forsøgt paa at ville ligne <HIS:hisRef target=\"Navneregister_HISe.xml#peBB\" type=\"person\">Bjørnson</HIS:hisRef>; <HIS:hisRef target=\"Navneregister_HISe.xml#woF1\" type=\"work\">\n",
       " <anchor type=\"lemma\" xml:id=\"koB12_801\"/>«Fru Inger til Østeraad»</HIS:hisRef> og <HIS:hisRef target=\"Navneregister_HISe.xml#woHH\" type=\"work\">\n",
       " <anchor type=\"lemma\" xml:id=\"koB12_802\"/>«Hærmændene paa Helgeland»</HIS:hisRef> er skrevne <anchor type=\"lemma\" xml:id=\"koB12_803\"/>forinden B: endnu havde digtet en Linje. (NB: det er muligt at «Mellem Slagene» var til paa den Tid jeg skrev «Hærmændene» men kom ikke og kunde ikke komme mig for Øje). – Hvad <HIS:hisRef target=\"Navneregister_HISe.xml#woKK\" type=\"work\">\n",
       " <anchor type=\"lemma\" xml:id=\"koB12_804\"/>«Kjærlighedens Komedie»</HIS:hisRef> angaar, saa kan jeg forsikkre Dem, at har det nogensinde været en Nødvendighed for en Forfatter at skille sig af med en Stemning og et Stof, saa var det Tilfældet <anchor type=\"lemma\" xml:id=\"koB12_805\"/>da jeg gik ivej med dette Arbejde. – <anchor type=\"lemma\" xml:id=\"koB12_806\"/>Deres venlige Raad at indsende «Fru Inger» til <HIS:hisRef target=\"Navneregister_HISe.xml#orgKT\" type=\"org\">det kgl: Theater</HIS:hisRef> skal jeg følge; gid jeg blot maatte gribe Tingen paa den rette Maade og at den maatte lykkes. Disse Linjer til Tak har det været mig en Trang at sende Dem idet jeg varmt og levende føler at De har gjort en god Gjerning mod mig ved ikke at lægge min Bog tilside i Taushed.</p>]"
      ]
     },
     "execution_count": 18,
     "metadata": {},
     "output_type": "execute_result"
    }
   ],
   "source": [
    "soup.find_all([\"p\"])"
   ]
  },
  {
   "cell_type": "markdown",
   "metadata": {},
   "source": [
    "#### If everything runs correctly to this point, we can now run it thorugh a loop applying it to all the files."
   ]
  },
  {
   "cell_type": "markdown",
   "metadata": {},
   "source": [
    "##### Here, you should replace the strings within the quotation marks to match your system. The file_list should point to the XML folder, and the path should point to the TXT folder."
   ]
  },
  {
   "cell_type": "code",
   "execution_count": 19,
   "metadata": {},
   "outputs": [],
   "source": [
    "file_list = glob.glob(os.path.join(os.getcwd(), r\"C:\\\\Users\\\\Sarah\\\\Desktop\\\\Cultural_data_science\\\\Exam\\\\ibsen_network\\\\data\\\\xml\", \"BREV*.xml\"))\n",
    "path = (r\"C:\\\\Users\\\\Sarah\\\\Desktop\\\\Cultural_data_science\\\\Exam\\\\ibsen_network\\\\data\\\\txt\\\\\") \n"
   ]
  },
  {
   "cell_type": "markdown",
   "metadata": {},
   "source": [
    "##### With these things corrected, we can now run the loop. It will write the letters to TXT files keeping only the p tags."
   ]
  },
  {
   "cell_type": "code",
   "execution_count": null,
   "metadata": {},
   "outputs": [],
   "source": [
    "\n",
    "for file in file_list:\n",
    "    with open(file) as f_input:\n",
    "        corpus = ''\n",
    "        soup = BeautifulSoup(f_input, 'xml')\n",
    "        all_p = soup.find_all([\"p\"])\n",
    "        for tag in all_p:\n",
    "            corpus += tag.get_text().strip().replace(\"\\n\", \"\")\n",
    "        file = (''.join([n for n in os.path.basename(file_path)]))\n",
    "        file = re.sub('\\.xml', '', file) \n",
    "        text_file = open(path + F\"{file}.txt\", \"w\")\n",
    "        n = text_file.write(corpus)\n",
    "        text_file.close()"
   ]
  }
 ],
 "metadata": {
  "kernelspec": {
   "display_name": "Python 3",
   "language": "python",
   "name": "python3"
  },
  "language_info": {
   "codemirror_mode": {
    "name": "ipython",
    "version": 3
   },
   "file_extension": ".py",
   "mimetype": "text/x-python",
   "name": "python",
   "nbconvert_exporter": "python",
   "pygments_lexer": "ipython3",
   "version": "3.8.3"
  }
 },
 "nbformat": 4,
 "nbformat_minor": 4
}
